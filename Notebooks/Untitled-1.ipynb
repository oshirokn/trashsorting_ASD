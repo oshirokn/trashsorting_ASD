{
 "metadata": {
  "language_info": {
   "codemirror_mode": {
    "name": "ipython",
    "version": 3
   },
   "file_extension": ".py",
   "mimetype": "text/x-python",
   "name": "python",
   "nbconvert_exporter": "python",
   "pygments_lexer": "ipython3",
   "version": "3.7.6"
  },
  "orig_nbformat": 2,
  "kernelspec": {
   "name": "python376jvsc74a57bd0092bbda11bfefd2557eda6370c183e3e05ebe40d7f723c982d16c4fc57a419fb",
   "display_name": "Python 3.7.6 64-bit ('base': conda)"
  }
 },
 "nbformat": 4,
 "nbformat_minor": 2,
 "cells": [
  {
   "cell_type": "code",
   "execution_count": 24,
   "metadata": {},
   "outputs": [
    {
     "output_type": "execute_result",
     "data": {
      "text/plain": [
       "['archive.zip',\n",
       " 'garbage_classification',\n",
       " 'xception_weights_tf_dim_ordering_tf_kernels_notop.h5']"
      ]
     },
     "metadata": {},
     "execution_count": 24
    }
   ],
   "source": [
    "import os\n",
    "from os import listdir\n",
    "import zipfile\n",
    "from zipfile import ZipFile\n",
    "listdir()"
   ]
  },
  {
   "cell_type": "code",
   "execution_count": 25,
   "metadata": {},
   "outputs": [
    {
     "output_type": "execute_result",
     "data": {
      "text/plain": [
       "['archive.zip',\n",
       " 'garbage_classification',\n",
       " 'xception_weights_tf_dim_ordering_tf_kernels_notop.h5']"
      ]
     },
     "metadata": {},
     "execution_count": 25
    }
   ],
   "source": [
    "os.chdir(r\"C:/Users/kl4872/Documents/Arcada/Trash test/data\")\n",
    "listdir()"
   ]
  },
  {
   "cell_type": "code",
   "execution_count": 26,
   "metadata": {},
   "outputs": [],
   "source": [
    "# with ZipFile('archive.zip', 'r') as zipObj:\n",
    "#     # Extract all the contents of zip file in current directory\n",
    "#         zipObj.extractall()\n"
   ]
  },
  {
   "cell_type": "code",
   "execution_count": 27,
   "metadata": {},
   "outputs": [
    {
     "output_type": "execute_result",
     "data": {
      "text/plain": [
       "'C:\\\\Users\\\\kl4872\\\\Documents\\\\Arcada\\\\Trash test\\\\data'"
      ]
     },
     "metadata": {},
     "execution_count": 27
    }
   ],
   "source": [
    "os.getcwd()"
   ]
  },
  {
   "cell_type": "code",
   "execution_count": 32,
   "metadata": {},
   "outputs": [
    {
     "output_type": "execute_result",
     "data": {
      "text/plain": [
       "['battery',\n",
       " 'biological',\n",
       " 'brown-glass',\n",
       " 'cardboard',\n",
       " 'clothes',\n",
       " 'green-glass',\n",
       " 'metal',\n",
       " 'paper',\n",
       " 'plastic',\n",
       " 'shoes',\n",
       " 'trash',\n",
       " 'white-glass']"
      ]
     },
     "metadata": {},
     "execution_count": 32
    }
   ],
   "source": [
    "listdir('./garbage_classification')"
   ]
  },
  {
   "cell_type": "code",
   "execution_count": 33,
   "metadata": {},
   "outputs": [
    {
     "output_type": "stream",
     "name": "stdout",
     "text": [
      "Completed for  battery\n",
      "Completed for  biological\n",
      "Completed for  brown-glass\n",
      "Completed for  cardboard\n",
      "Completed for  clothes\n",
      "Completed for  green-glass\n",
      "Completed for  metal\n",
      "Completed for  paper\n",
      "Completed for  plastic\n",
      "Completed for  shoes\n",
      "Completed for  trash\n",
      "Completed for  white-glass\n"
     ]
    }
   ],
   "source": [
    "# Take a path to each one of the folder+file\n",
    "archive_path = os.path.join(os.getcwd(), 'archive\\\\garbage_classification')\n",
    "paths=[]\n",
    "labels=[]\n",
    "for folder in listdir('./garbage_classification'):\n",
    "    for picture in listdir('./garbage_classification/'+folder):\n",
    "        _ = os.path.join(os.path.join(archive_path, folder), picture)\n",
    "        paths.append(_)\n",
    "        labels.append(folder)\n",
    "    print('Completed for ',folder)"
   ]
  },
  {
   "cell_type": "code",
   "execution_count": 39,
   "metadata": {},
   "outputs": [
    {
     "output_type": "execute_result",
     "data": {
      "text/plain": [
       "12"
      ]
     },
     "metadata": {},
     "execution_count": 39
    }
   ],
   "source": [
    "len(set(labels))"
   ]
  }
 ]
}